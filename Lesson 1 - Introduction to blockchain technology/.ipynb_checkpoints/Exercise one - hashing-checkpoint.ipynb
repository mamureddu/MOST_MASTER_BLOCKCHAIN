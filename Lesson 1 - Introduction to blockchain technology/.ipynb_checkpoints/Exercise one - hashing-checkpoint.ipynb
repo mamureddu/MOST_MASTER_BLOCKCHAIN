{
 "cells": [
  {
   "cell_type": "markdown",
   "metadata": {},
   "source": [
    "# Hash function: how does it works?"
   ]
  },
  {
   "cell_type": "markdown",
   "metadata": {},
   "source": [
    "Blockchain and, in general, distributed ledger technologies are based on the mathematical concept of hashing. An hashing function shows six main characteristics:\n",
    "- Maps Input x of any size to an Output of fixed size – called a ‘Hash’ \n",
    "- Deterministic: Always the same Hash for the same x\n",
    "- Preimage resistant (One way): infeasible to determine x from Hash(x) \n",
    "- Collision resistant: infeasible to find and x and y where Hash(x) = Hash(y) \n",
    "- Avalanche effect: Change x slightly and Hash(x) changes significantly \n",
    "- Puzzle friendliness: knowing Hash(x) and part of x it is still very hard to find rest of x "
   ]
  },
  {
   "cell_type": "markdown",
   "metadata": {},
   "source": [
    "## How can we compute it?\n",
    "In 2021, every programming language has a library to perform hashing. In python, there are various libraries able to calculate it. In this course, we will use the Ethereum hashing function (keccak256), and we will use the python library maintained by the Ethereum foundation to calculate it.\n",
    "The name of the library is eth-utils and its github page can be found here, together with the installation instructions: https://github.com/ethereum/eth-utils#crypto-utils\n",
    "Let's try some examples:"
   ]
  },
  {
   "cell_type": "markdown",
   "metadata": {},
   "source": [
    "### At first, let's compute the hash of \"hello world\""
   ]
  },
  {
   "cell_type": "code",
   "execution_count": 2,
   "metadata": {},
   "outputs": [
    {
     "data": {
      "text/plain": [
       "b'\\xedl\\x11\\xb0\\xb5\\xb8\\x08\\x96\\r\\xf2o[\\xfcG\\x1d\\x04\\xc1\\x99[\\x0f\\xfd U\\x92Z\\xd1\\xbe(\\xd6\\xba\\xad\\xfd'"
      ]
     },
     "execution_count": 2,
     "metadata": {},
     "output_type": "execute_result"
    }
   ],
   "source": [
    "from eth_utils import keccak\n",
    "keccak(b'Hello world')"
   ]
  },
  {
   "cell_type": "markdown",
   "metadata": {},
   "source": [
    "The Keccak256 mapped the 'Hello world' phrase into a 256 bit (32 Bytes) string, here reported in a hexadecimal notation.\n",
    "The full translation has been:\n",
    "1. 'Hello world' is codified into a bit string\n",
    "2. Keccak256 translates the bit string into a 256 bit one, which is called the *hash* of 'Hello world' string.\n",
    "Now, let's try some of the properties described before:\n"
   ]
  },
  {
   "cell_type": "markdown",
   "metadata": {},
   "source": [
    "### Maps Input x of any size to an Output of fixed size – called a ‘Hash’ "
   ]
  },
  {
   "cell_type": "code",
   "execution_count": 8,
   "metadata": {
    "scrolled": true
   },
   "outputs": [
    {
     "name": "stdout",
     "output_type": "stream",
     "text": [
      "b'\\xedl\\x11\\xb0\\xb5\\xb8\\x08\\x96\\r\\xf2o[\\xfcG\\x1d\\x04\\xc1\\x99[\\x0f\\xfd U\\x92Z\\xd1\\xbe(\\xd6\\xba\\xad\\xfd'\n",
      "32\n",
      "b'\\xcaL\\x88\\x10\\xf1\\xe1\\xd5\\xec&\\xb3\\xaf\\x80O\\xd1\\xb3.\\x18 \\x85w\\xe9\\xbcl\\xa8\\x872\\x10\\xb9\\x03\\xe6\\xd1i'\n",
      "32\n",
      "b'\\x03x?\\xac.\\xfe\\xd8\\xfb\\xc9\\xadD>Y.\\xe3\\x0ea\\xd6_G\\x11@\\xc1\\x0c\\xa1U\\xe97\\xb45\\xb7`'\n",
      "32\n"
     ]
    }
   ],
   "source": [
    "print (keccak(b'Hello world')) #print hello world hash\n",
    "print (len(keccak(b'Hello world'))) #and its len in hexadecimal code \n",
    "print (keccak(b'Some very long phrase just to show how this property works'))\n",
    "print (len(keccak(b'Some very long phrase just to show how this property works')))\n",
    "print (keccak(b'A'))\n",
    "print (len(keccak(b'A')))"
   ]
  },
  {
   "cell_type": "markdown",
   "metadata": {},
   "source": [
    "(Here lenght is 32 because are hexadecimal words --->"
   ]
  },
  {
   "cell_type": "code",
   "execution_count": 9,
   "metadata": {},
   "outputs": [
    {
     "data": {
      "text/plain": [
       "512"
      ]
     },
     "execution_count": 9,
     "metadata": {},
     "output_type": "execute_result"
    }
   ],
   "source": [
    "32*16 #how many bytes?"
   ]
  },
  {
   "cell_type": "markdown",
   "metadata": {},
   "source": [
    "### Deterministic: Always the same Hash for the same x"
   ]
  },
  {
   "cell_type": "code",
   "execution_count": 11,
   "metadata": {},
   "outputs": [
    {
     "data": {
      "text/plain": [
       "True"
      ]
     },
     "execution_count": 11,
     "metadata": {},
     "output_type": "execute_result"
    }
   ],
   "source": [
    "keccak(b'Hello world') == keccak(b'Hello world') #are the hashes of the same x the same?"
   ]
  },
  {
   "cell_type": "markdown",
   "metadata": {},
   "source": [
    "### Preimage resistant (One way): infeasible to determine x from Hash(x) \n",
    "The computational inverse of keccak512 does not exists. The only way to invert it would be to make a random process. Let's give a try."
   ]
  },
  {
   "cell_type": "code",
   "execution_count": 18,
   "metadata": {},
   "outputs": [
    {
     "name": "stdout",
     "output_type": "stream",
     "text": [
      "0.18201184272766113\n"
     ]
    }
   ],
   "source": [
    "import secrets #a secure random hex generator for python\n",
    "import time #The python time standard library\n",
    "h_w_hash = keccak(b'Hello world')\n",
    "\n",
    "now = time.time() #save starting time\n",
    "for i in range(10000): #try 10000 times\n",
    "    random_number = secrets.token_hex(32) #generate a random 32 digits hexadecimal\n",
    "    if keccak(random_number.encode('ascii')) == h_w_hash: #if hashes are the same\n",
    "        print (random_number) #print the hexadecimal\n",
    "elapsed_time = (time.time() - now) #get elapsed time\n",
    "print (elapsed_time) #print it"
   ]
  },
  {
   "cell_type": "markdown",
   "metadata": {},
   "source": [
    "The test of 10'000 strings took 0.18 seconds with my pc. Try with yours. Since we have $2^{512}$ possibilities, on average we will need $\\frac{e time \\cdot 2^{512}}{10^4}$ seconds to find a solution (which can be anyway different from the original x, since more than one x can give the same hash."
   ]
  },
  {
   "cell_type": "code",
   "execution_count": 25,
   "metadata": {},
   "outputs": [
    {
     "name": "stdout",
     "output_type": "stream",
     "text": [
      "244037982826739988493487585199179670525876422780434911127937718913295195791136091915596976450924256191838561741651970967730644635227535043802972553216  seconds;\n",
      "67788328562983331073626092569469594381452241860673526251845889602857819777344239428604579650712503835679844323412693870599543656748410663287652352  hours;\n",
      "2824513690124305345873183268693947283459919071566242617308700592793385191952694117249302993545286699821059925803046490550347195639368284763062272  days;\n",
      "7738393671573438639822886460107213415012006764977100231600468645346861512204720438395438829160103591981635321334084349869012594416452924080128  years.\n"
     ]
    }
   ],
   "source": [
    "avg_time = int((2**512)*elapsed_time/(10000))\n",
    "print (avg_time, \" seconds;\")\n",
    "print (int(avg_time/3600), \" hours;\")\n",
    "print (int(avg_time/3600/24), \" days;\")\n",
    "print (int(avg_time/3600/24/365), \" years.\")"
   ]
  },
  {
   "cell_type": "markdown",
   "metadata": {},
   "source": [
    "Quite a lot."
   ]
  },
  {
   "cell_type": "markdown",
   "metadata": {},
   "source": [
    "### Avalanche effect: Change x slightly and Hash(x) changes significantly \n",
    "let's hash \"Hello world\" and \"hello world\""
   ]
  },
  {
   "cell_type": "code",
   "execution_count": 27,
   "metadata": {},
   "outputs": [
    {
     "name": "stdout",
     "output_type": "stream",
     "text": [
      "b'\\xedl\\x11\\xb0\\xb5\\xb8\\x08\\x96\\r\\xf2o[\\xfcG\\x1d\\x04\\xc1\\x99[\\x0f\\xfd U\\x92Z\\xd1\\xbe(\\xd6\\xba\\xad\\xfd'\n",
      "b'G\\x172\\x85\\xa8\\xd74\\x1e^\\x97/\\xc6w(c\\x84\\xf8\\x02\\xf8\\xefB\\xa5\\xec_\\x03\\xbb\\xfa%L\\xb0\\x1f\\xad'\n"
     ]
    }
   ],
   "source": [
    "print (keccak(b'Hello world'))\n",
    "print (keccak(b'hello world'))"
   ]
  },
  {
   "cell_type": "markdown",
   "metadata": {},
   "source": [
    "Which are completely different. This means that you cannot try to infer $hash^{-1}(hash(x))$ from $hash^{-1}(hash(z))$, where $z$ is very similar to x "
   ]
  },
  {
   "cell_type": "markdown",
   "metadata": {},
   "source": [
    "### Puzzle friendliness: knowing Hash(x) and part of x it is still very hard to find rest of x \n",
    "Let's say we know that the hash of a string which starts with \"Hello wor\" is b'\\xedl\\x11\\xb0\\xb5\\xb8\\x08\\x96\\r\\xf2o[\\xfcG\\x1d\\x04\\xc1\\x99[\\x0f\\xfd U\\x92Z\\xd1\\xbe(\\xd6\\xba\\xad\\xfd'. \n",
    "How can we get the correct hash? we will have to try all the different combinations of it and find a hash which fits. (Which means trying 26*26 letters, assuming we will not include strange symbols, and that the lenght of x is the same of \"hello world\"). "
   ]
  }
 ],
 "metadata": {
  "kernelspec": {
   "display_name": "Python 3",
   "language": "python",
   "name": "python3"
  },
  "language_info": {
   "codemirror_mode": {
    "name": "ipython",
    "version": 3
   },
   "file_extension": ".py",
   "mimetype": "text/x-python",
   "name": "python",
   "nbconvert_exporter": "python",
   "pygments_lexer": "ipython3",
   "version": "3.7.3"
  }
 },
 "nbformat": 4,
 "nbformat_minor": 4
}
