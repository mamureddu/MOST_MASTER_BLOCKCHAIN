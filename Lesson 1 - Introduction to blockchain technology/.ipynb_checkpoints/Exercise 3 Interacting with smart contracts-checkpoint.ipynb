{
 "cells": [
  {
   "cell_type": "markdown",
   "metadata": {},
   "source": [
    "## Deploy and interact with a smart contract\n",
    "In this section, we will learn how to deploy and interact with a basic smart contract.\n",
    "This will cover some basic aspects of smart contract creation, deployment and interaction. for a more advance and fancy tutorial, I suggest you to check this fantastic <a href=\"https://cryptozombies.io/en/course/\">course</a>.\n",
    "At first, let's create a very basic smart contract, which will be able to perform two actions: store a number < 10, check the stored number. We will not put other conditions, so anyone would be able to perform these tests.\n",
    "At first, we'll write the test contract. Since we are working on Ethereum, it should written with solidity, the Ethereum programming language. We will not have enough time to carry out a full solidity  course, so we will just look the basics. If interested, the aforementioned course is a nice starting point.\n",
    "\n",
    "At first, let's check this smart contract code:"
   ]
  },
  {
   "cell_type": "raw",
   "metadata": {},
   "source": [
    "pragma solidity >=0.4.23;\n",
    "\n",
    "contract Storage{\n",
    "  uint num;\n",
    "  function store(uint a) public {\n",
    "    require(a < 10);\n",
    "    num = a;\n",
    "  }\n",
    "  function retreive() public view returns(uint) {\n",
    "    return num;\n",
    "  }\n",
    "}"
   ]
  },
  {
   "cell_type": "markdown",
   "metadata": {},
   "source": [
    "In the first line, there is a \"pragma\" instruction. With this line, mandatory, we are stating for which version of solidity compiler (which is called solc) the code is intended for. \n",
    "This is very important for solidity and other blockchains in general since, as an emerging technologies, the state of the art is constantly and fastly upgrading, and so great differences can be found between versions. In this case, we are saying that we will use only instructions that can be compiled by a version of solc which is 0.4.23 or above. (take a look at the intial 0, this means it is still in a \"initial development\" phase. \n",
    "\n",
    "I line three, there is the contract definition. A contract is similar to an object (for those who know object programming), look at it like a library containing specific internal variables and functions, (which are often used for modifying the internal variables). In the \"Storage\" smart contract we have one internal variable and two functions: *myNumber*, *saveNumber* and *getNumber*. In the following we will look at every line:\n",
    "- **uint num:** an internal variable called *num*, which is (and it would always be) an unsigned integer. In ethereum, unsigned integer have a lenght of 256 bits, so they can codify integers between 0 and $2^{256} - 1$.\n",
    "- **function store(uint a) public:** this line defines a function, that will perform the actions between braces. The instruction *function* specifies that the following is a function, called *store*, which takes as input an *uint*. This uint will be referred as \"*a*\" in all the code between the function braces. Finally, the term *public* means that this function can be called by anyone which has acces to the blockchain (this means potentially eeryone in the universe). This function consists in two instructions. described in the followinf lines.\n",
    "- **require(a < 10):** the first one, require, checks if the number *a* is < than 10. If yes, the following instruction is performed, otherwise it stops the execution. As we will see later, require is very powerful and can be used to applya wide range of contraints to our functions. \n",
    "- **myNumber = a:** finally, the core of our function. Here it is very simple, since is sets the *num* contract parameter as the number *a* we just passed. Notice that both *a* and *num* are of the same type (uint).\n",
    "- **function retreive() public view returns(uint):** another function, *retreive*, which is also public. The new instruction, *view*, means that it does not perform any change in the blockchain memory (since it does not change anything in the contract, but just reads and returns a value). Also, it returns a value, which we state it will be a uint variable. This function performs just one thing:\n",
    "- **return num:** Just reads the current value of the contract parameter *num*, and returns it back. In this way, calling the function *retreive* we will be able to access to the number stored in the contract."
   ]
  },
  {
   "cell_type": "markdown",
   "metadata": {},
   "source": [
    "This contract has already been compiled and deployed at the address **0xe328c5b4a43070d056e58a028c9ce9220a2e3bb3**. For more informations regarding how to deploy your contract, refer to the cryptozombies tutorial. \n",
    "A nice composing and deploying interface can be found on <a href=\"https://remix.ethereum.org/\">Remix website</a>.\n",
    "\n",
    "In ethereum deplyed smart contracts reside at an address, just as they are human users. In order to interact with the smart contracts, we will need two informations:\n",
    "- their address;\n",
    "- thei ABI, which is a json file which codifies the functions into the contract in something which can be read byhumans and high level interpreters. In the following block you can find the ABI for the contract \"Storage\"."
   ]
  },
  {
   "cell_type": "code",
   "execution_count": 1,
   "metadata": {},
   "outputs": [],
   "source": [
    "ABI = [\n",
    "\t{\n",
    "\t\t\"inputs\": [\n",
    "\t\t\t{\n",
    "\t\t\t\t\"internalType\": \"uint256\",\n",
    "\t\t\t\t\"name\": \"num\",\n",
    "\t\t\t\t\"type\": \"uint256\"\n",
    "\t\t\t}\n",
    "\t\t],\n",
    "\t\t\"name\": \"store\",\n",
    "\t\t\"outputs\": [],\n",
    "\t\t\"stateMutability\": \"nonpayable\",\n",
    "\t\t\"type\": \"function\"\n",
    "\t},\n",
    "\t{\n",
    "\t\t\"inputs\": [],\n",
    "\t\t\"name\": \"retreive\",\n",
    "\t\t\"outputs\": [\n",
    "\t\t\t{\n",
    "\t\t\t\t\"internalType\": \"uint256\",\n",
    "\t\t\t\t\"name\": \"\",\n",
    "\t\t\t\t\"type\": \"uint256\"\n",
    "\t\t\t}\n",
    "\t\t],\n",
    "\t\t\"stateMutability\": \"view\",\n",
    "\t\t\"type\": \"function\"\n",
    "\t}\n",
    "]"
   ]
  },
  {
   "cell_type": "markdown",
   "metadata": {},
   "source": [
    "In this case, the ABI just says the name and type of variables and internal functions, so that it is possible to call them from an external API."
   ]
  },
  {
   "cell_type": "markdown",
   "metadata": {},
   "source": [
    "### Interacting with the contract"
   ]
  },
  {
   "cell_type": "markdown",
   "metadata": {},
   "source": [
    "Interaction with contracts does not operatively differ from the interaction with user addresses. In an apparent way, it is possible to say that it works exactly in the same way. there are two main ways to interact witha. contract:\n",
    "- **call to a contract function**: if the function is of type *pure* or *view*, (so that it does not write information on the blockchain) a call function should be used to access it. This is equivalent to the getBalance instruction which gave us the possibility to check the balance of a user address. Calling a function does not consume gas and thsu ether.\n",
    "- **transact to a contract function:** Transaction to a contract function should me made to functions which change the state of the blockchain. As an example, in our test contract, the function store changes the value of the contract variable *num*. Since miners should be paid for changing this value, we should correspond them a fee. Notice that it is like sending a transaction of ethers between user contracts (If Is end etheres to you, the state of the blockchain should change since it must update my and yours balances).\n",
    "\n",
    "### Setting the stored number in our contract\n",
    "So, if we want to set the number stored in our contract, we should send him a transaction, in which we specify the function at which we want to have access, and its parameters. also, we should attach a sum that allow the payment of the transaction fee."
   ]
  },
  {
   "cell_type": "code",
   "execution_count": 3,
   "metadata": {},
   "outputs": [
    {
     "name": "stdout",
     "output_type": "stream",
     "text": [
      "Correctly connected to the blockchain through the infura node: True\n"
     ]
    }
   ],
   "source": [
    "#at first, initialize the connection to the blockchain through the infura node\n",
    "import secrets #a secure random hex generator for python\n",
    "from eth_keys import keys\n",
    "from eth_utils import decode_hex\n",
    "from web3 import HTTPProvider, Web3, exceptions\n",
    "w3 = Web3(HTTPProvider(\"https://ropsten.infura.io/v3/53b3b1921ddf43f58cabf2eeb7ea7696\"))\n",
    "print(\"Correctly connected to the blockchain through the infura node:\", w3.isConnected())\n",
    "\n",
    "#at first, let's create a local python contract instance\n",
    "storage_contract = w3.eth.contract(\n",
    "    address = '0xe328C5b4A43070D056e58A028C9Ce9220A2E3Bb3',\n",
    "    abi = ABI\n",
    ")\n",
    "#as usual, get the transaction nonce of our address by looking the number of transactions already performed.\n",
    "#We will send this transaction from an address we know and in which we know we have some ether in.\n",
    "#(try to use the keys we created in the prevous examples)\n",
    "#A working address with some ether on it\n",
    "fixed_private = '5619099d74e5a0c24616de8eabbf4c3a2610d52caa8a7ea18e48ad3a895488f2' \n",
    "fixed_priv_key_bytes = decode_hex(fixed_private) #decode it in a bytes object\n",
    "fixed_priv_key = keys.PrivateKey(fixed_priv_key_bytes) #convert it to hex representation\n",
    "fixed_pub_key = fixed_priv_key.public_key #and calculate the public key\n",
    "fixed_address = fixed_pub_key.to_checksum_address()\n",
    "\n",
    "#get address nonce\n",
    "nonce = w3.eth.getTransactionCount(fixed_address)\n",
    "\n",
    "#Set the number to save on the contract\n",
    "number_to_save = 7\n",
    "\n",
    "#Create the function instance\n",
    "contract_function = storage_contract.functions.store(\n",
    "    number_to_save,\n",
    ")\n",
    "#and then construct the transaction\n",
    "contract_txn = contract_function.buildTransaction({\n",
    "    'gas': 70000, #the cas attached to the transaction. this is the maximum gas which will be used to eprform it.\n",
    "    #If less gas than this will be used, it will be reimboursed. If there is not enough gas to perform\n",
    "    #the transaction, it will be refused AND THE GAS WILL NOT BE REIMBOURSED.\n",
    "    'gasPrice': w3.toWei('1', 'gwei'), #the price (in gwei) that we will be willing to pay epr each burned gas\n",
    "    'nonce': nonce, #The transaction nonce\n",
    "})\n",
    "\n",
    "#Now, let's digitally sign our transaction (remember, we will need our private key for doing so)\n",
    "signed_txn = w3.eth.account.sign_transaction(contract_txn, private_key=fixed_private)\n",
    "\n",
    "#and send the transaction to the contract\n",
    "transaction_signature = w3.eth.sendRawTransaction(signed_txn.rawTransaction)  "
   ]
  },
  {
   "cell_type": "code",
   "execution_count": 4,
   "metadata": {},
   "outputs": [
    {
     "name": "stdout",
     "output_type": "stream",
     "text": [
      "AttributeDict({'blockHash': None, 'blockNumber': None, 'from': '0x5DaD165F2bC49e95a969C104C9c887E3dAceDD3d', 'gas': 70000, 'gasPrice': 1000000000, 'hash': HexBytes('0xd3b71f4d820964e4b24933cd9e29c0a539852a4e697eda9c242ead1405067022'), 'input': '0x6057361d0000000000000000000000000000000000000000000000000000000000000007', 'nonce': 9, 'r': HexBytes('0xc6049929fcbb0e9a12e617b1ba49e96be9d151c40e7ced3f5db9c30ec0d07adf'), 's': HexBytes('0x21a580f4bd340c8ad5d084e6dfb61cd6d5bf7037b110b0a66d217f183cdb20e0'), 'to': '0xe328C5b4A43070D056e58A028C9Ce9220A2E3Bb3', 'transactionIndex': None, 'v': 42, 'value': 0})\n"
     ]
    }
   ],
   "source": [
    "#Now, let' wait some time and check if our transaction did its duty\n",
    "print (w3.eth.getTransaction(transaction_signature))"
   ]
  },
  {
   "cell_type": "markdown",
   "metadata": {},
   "source": [
    "### Checking the number stored in the contract\n",
    "Seems it worked. Now, we should check if the number stored in the contract is the same we just stored (provided that noone else changed it between our call to store function and now).\n",
    "\n",
    "To do so, we will have to send a *call* to our contract, invoking our *retreive* function. "
   ]
  },
  {
   "cell_type": "code",
   "execution_count": 5,
   "metadata": {},
   "outputs": [
    {
     "name": "stdout",
     "output_type": "stream",
     "text": [
      "7 True\n"
     ]
    }
   ],
   "source": [
    "#Make a call to the contract function\n",
    "contract_function_call = storage_contract.functions.retreive().call()\n",
    "#and print its results\n",
    "print (contract_function_call, contract_function_call == number_to_save)"
   ]
  },
  {
   "cell_type": "markdown",
   "metadata": {},
   "source": [
    "## A more complex contract: a decentralized auction\n",
    "Now that we know how smart contract works and how we can interact with them, we can try to set up a decentralized auction. An auction is quite simple to implement, but since in principle it can happen between users which does not know (and so, trust) each other, it needs to be performed by a third trusted party, which in turns tend to ask a fee for its service. With smart contracts, the third party can be digital and with no central ownership. Also, it carries all the trust, immutability and consistency of the blockchain on which it is performed.\n",
    "\n",
    "In the following, we will define a basic auction contract, which will show how decentralized markets can be implemented on a blockchain (in this case, Ethereum).\n",
    "\n",
    "(The proposed contract does not make a lot of sense from economical point of view, but allows for some important considerations, and on top of that a real and better market can be constructed.)"
   ]
  },
  {
   "cell_type": "raw",
   "metadata": {},
   "source": [
    "pragma solidity >=0.4.23;\n",
    "\n",
    "contract Auction{\n",
    "    \n",
    "  uint bestOffer; //the best placed offer since now\n",
    "  address payable bestOfferer; //The address of the best offerer\n",
    "  bool isOpen; //A boolean variable which states if the auction is open or not\n",
    "  address owner = msg.sender; //The owner of the contract, which is the only one which can open and close the auction\n",
    "  \n",
    "  function open() public {\n",
    "      //Open auction. can be performed only by the owner address.\n",
    "      require (msg.sender == owner); //Revert transacito if the funcion is not called by the owner\n",
    "      isOpen = true;\n",
    "  }\n",
    "  \n",
    "  function placeBid() public payable {\n",
    "      require(owner != msg.sender); //Sender cannot participate to the auction\n",
    "      require(isOpen); // Revert transaction if auciton is closed\n",
    "      if (msg.value > bestOffer) { //If the placed bid is higher than previous best offer\n",
    "          bestOffer = msg.value; //Set offer and offerer as best offer and best offerer \n",
    "          bestOfferer = msg.sender;\n",
    "      }\n",
    "  }\n",
    "  \n",
    "  function close() public {\n",
    "      //Open auction. can be performed only by the owner address.\n",
    "      require (msg.sender == owner); //Revert transacito if the funcion is not called by the owner\n",
    "      isOpen = false;\n",
    "  }\n",
    "  \n",
    "  function getCash() public {\n",
    "      // Once bidding is closed, allows bestOfferer to get all the money rpeviously sent to the contract\n",
    "      require(msg.sender == bestOfferer); //Only bestOfferer can cget the money\n",
    "      require(!isOpen); //allow contract draining only if the contract is closed\n",
    "      bestOfferer.transfer(address(this).balance); //transfer it! (Beware, here is not important,\n",
    "      // but this particular construction allows re-entrancy)\n",
    "      bestOffer = 0; //Reinitialize best offer to zero\n",
    "  }\n",
    "  \n",
    "}"
   ]
  },
  {
   "cell_type": "markdown",
   "metadata": {},
   "source": [
    "### How can we use it?\n",
    "The contract above is already been deployed on the ropsten network at address **0xfc2389E3D4073b2B912bCBfbA2451d03400F041E**. It has an owner, which can open and close the auction, and everyone (except the owner, to avoid unfair behavior) can place a bid. Together with the bid, the bidder should transfer the bidded quantity to the contract. \n",
    "When the auction controller (owner) decides to stop the bid, the user which bidded highest can drain teh contract, which means take **ALL** the ethers sent to that moment. \n",
    "Just some questions:\n",
    "1 what happens if tyou send less ethers than the highest id at that moment?\n",
    "2 What happens if you send ethers and the bid is closed?\n",
    "3 What happens if you try to darin the contract and the bid is still open?"
   ]
  },
  {
   "cell_type": "code",
   "execution_count": 9,
   "metadata": {},
   "outputs": [],
   "source": [
    "auction_abi = [\n",
    "\t{\n",
    "\t\t\"inputs\": [],\n",
    "\t\t\"name\": \"close\",\n",
    "\t\t\"outputs\": [],\n",
    "\t\t\"stateMutability\": \"nonpayable\",\n",
    "\t\t\"type\": \"function\"\n",
    "\t},\n",
    "\t{\n",
    "\t\t\"inputs\": [],\n",
    "\t\t\"name\": \"getCash\",\n",
    "\t\t\"outputs\": [],\n",
    "\t\t\"stateMutability\": \"nonpayable\",\n",
    "\t\t\"type\": \"function\"\n",
    "\t},\n",
    "\t{\n",
    "\t\t\"inputs\": [],\n",
    "\t\t\"name\": \"open\",\n",
    "\t\t\"outputs\": [],\n",
    "\t\t\"stateMutability\": \"nonpayable\",\n",
    "\t\t\"type\": \"function\"\n",
    "\t},\n",
    "\t{\n",
    "\t\t\"inputs\": [],\n",
    "\t\t\"name\": \"placeBid\",\n",
    "\t\t\"outputs\": [],\n",
    "\t\t\"stateMutability\": \"payable\",\n",
    "\t\t\"type\": \"function\"\n",
    "\t}\n",
    "]"
   ]
  },
  {
   "cell_type": "code",
   "execution_count": 41,
   "metadata": {},
   "outputs": [
    {
     "name": "stdout",
     "output_type": "stream",
     "text": [
      "Correctly connected to the blockchain through the infura node: True\n"
     ]
    }
   ],
   "source": [
    "#at first, initialize the connection to the blockchain through the infura node\n",
    "import secrets #a secure random hex generator for python\n",
    "from eth_keys import keys\n",
    "from eth_utils import decode_hex\n",
    "from web3 import HTTPProvider, Web3, exceptions\n",
    "w3 = Web3(HTTPProvider(\"https://ropsten.infura.io/v3/53b3b1921ddf43f58cabf2eeb7ea7696\"))\n",
    "print(\"Correctly connected to the blockchain through the infura node:\", w3.isConnected())\n",
    "\n",
    "#at first, let's create a local python contract instance\n",
    "auction_contract = w3.eth.contract(\n",
    "    address = '0xfc2389E3D4073b2B912bCBfbA2451d03400F041E',\n",
    "    abi = auction_abi\n",
    ")\n",
    "\n",
    "#A working address with some ether on it\n",
    "my_private = '5619099d74e5a0c24616de8eabbf4c3a2610d52caa8a7ea18e48ad3a895488f2'#'Insert your private key here' #remember, it should be kept secret!\n",
    "my_priv_key_bytes = decode_hex(my_private) #decode it in a bytes object\n",
    "my_priv_key = keys.PrivateKey(my_priv_key_bytes) #convert it to hex representation\n",
    "my_pub_key = my_priv_key.public_key #and calculate the public key\n",
    "my_address = my_pub_key.to_checksum_address()\n",
    "\n",
    "#as usual, get the transaction nonce of our address by looking the number of transactions already performed.\n",
    "#We will send this transaction from an address we know and in which we know we have some ether in.\n",
    "#(try to use the keys we created in the prevous examples)\n",
    "nonce = w3.eth.getTransactionCount(my_address)\n",
    "\n",
    "#Set the amount of ether to transfer\n",
    "gwei_to_bid = 70000 #You decide!\n",
    "\n",
    "#Create the function instance\n",
    "contract_function = auction_contract.functions.placeBid()\n",
    "\n",
    "\n",
    "#and then construct the transaction\n",
    "contract_txn = contract_function.buildTransaction({\n",
    "    'gas': 70000, #the cas attached to the transaction. this is the maximum gas which will be used to eprform it.\n",
    "    #If less gas than this will be used, it will be reimboursed. If there is not enough gas to perform\n",
    "    #the transaction, it will be refused AND THE GAS WILL NOT BE REIMBOURSED.\n",
    "    'gasPrice': w3.toWei('1', 'gwei'), #the price (in gwei) that we will be willing to pay epr each burned gas\n",
    "    'nonce': nonce, #The transaction nonce\n",
    "    'value': gwei_to_bid #the transaction value (the bid)\n",
    "})\n",
    "\n",
    "#Now, let's digitally sign our transaction (remember, we will need our private key for doing so)\n",
    "signed_txn = w3.eth.account.sign_transaction(contract_txn, private_key=my_private)\n",
    "\n",
    "#and send the transaction to the contract\n",
    "transaction_signature = w3.eth.sendRawTransaction(signed_txn.rawTransaction)  "
   ]
  },
  {
   "cell_type": "code",
   "execution_count": 43,
   "metadata": {},
   "outputs": [
    {
     "name": "stdout",
     "output_type": "stream",
     "text": [
      "AttributeDict({'blockHash': HexBytes('0x225d2739d7c8d448d910fabee1e53ffcb990d40bc3c8227b9e7e152c6944fc89'), 'blockNumber': 7957069, 'from': '0x5DaD165F2bC49e95a969C104C9c887E3dAceDD3d', 'gas': 70000, 'gasPrice': 1000000000, 'hash': HexBytes('0xe71b5d05f38c56c4e74b909a7976693e34ed36f1208b751ffe2c9513d789c26a'), 'input': '0xecfc7ecc', 'nonce': 19, 'r': HexBytes('0x0b71b1c88d145a2a5f89433b7efb4ed8803bf2d87d4d8882fb396020c193e332'), 's': HexBytes('0x5029fb71a2a0096f1acb8a1866b2a0a95085669296123f2810c200b7c12e1522'), 'to': '0xfc2389E3D4073b2B912bCBfbA2451d03400F041E', 'transactionIndex': 27, 'v': 41, 'value': 70000})\n",
      "AttributeDict({'blockHash': HexBytes('0x225d2739d7c8d448d910fabee1e53ffcb990d40bc3c8227b9e7e152c6944fc89'), 'blockNumber': 7957069, 'contractAddress': None, 'cumulativeGasUsed': 3538190, 'from': '0x5DaD165F2bC49e95a969C104C9c887E3dAceDD3d', 'gasUsed': 22075, 'logs': [], 'logsBloom': HexBytes('0x00000000000000000000000000000000000000000000000000000000000000000000000000000000000000000000000000000000000000000000000000000000000000000000000000000000000000000000000000000000000000000000000000000000000000000000000000000000000000000000000000000000000000000000000000000000000000000000000000000000000000000000000000000000000000000000000000000000000000000000000000000000000000000000000000000000000000000000000000000000000000000000000000000000000000000000000000000000000000000000000000000000000000000000000000000000'), 'status': 0, 'to': '0xfc2389E3D4073b2B912bCBfbA2451d03400F041E', 'transactionHash': HexBytes('0xe71b5d05f38c56c4e74b909a7976693e34ed36f1208b751ffe2c9513d789c26a'), 'transactionIndex': 27})\n"
     ]
    }
   ],
   "source": [
    "#Now, let's wait some time and check if our transaction did it duty\n",
    "print (w3.eth.getTransaction(transaction_signature))\n",
    "print (w3.eth.getTransactionReceipt(transaction_signature))"
   ]
  },
  {
   "cell_type": "code",
   "execution_count": 24,
   "metadata": {},
   "outputs": [],
   "source": [
    "#Try to get money!\n",
    "#It will change the blockchain status moving the contract balance to the best offerer address,\n",
    "#this means that blockchain status can change and someone has to pay to do so.\n",
    "#the correct way to access to the function is throught *transact*, and not to *call*.\n",
    "\n",
    "#Create the function instance\n",
    "contract_function = auction_contract.functions.getCash()\n",
    "\n",
    "#as usual, get the transaction nonce of our address by looking the number of transactions already performed.\n",
    "#We will send this transaction from an address we know and in which we know we have some ether in.\n",
    "#(try to use the keys we created in the prevous examples)\n",
    "nonce = w3.eth.getTransactionCount(my_address)\n",
    "\n",
    "#and then construct the transaction\n",
    "contract_txn = contract_function.buildTransaction({\n",
    "    'gas': 70000, #the gas attached to the transaction. this is the maximum gas which will be used to eprform it.\n",
    "    #If less gas than this will be used, it will be reimboursed. If there is not enough gas to perform\n",
    "    #the transaction, it will be refused AND THE GAS WILL NOT BE REIMBOURSED.\n",
    "    'gasPrice': w3.toWei('1', 'gwei'), #the price (in gwei) that we will be willing to pay epr each burned gas\n",
    "    'nonce': nonce, #The transaction nonce\n",
    "})\n",
    "\n",
    "#Now, let's digitally sign our transaction (remember, we will need our private key for doing so)\n",
    "signed_txn = w3.eth.account.sign_transaction(contract_txn, private_key=my_private)\n",
    "\n",
    "#and send the transaction to the contract\n",
    "transaction_signature = w3.eth.sendRawTransaction(signed_txn.rawTransaction)  "
   ]
  },
  {
   "cell_type": "code",
   "execution_count": 36,
   "metadata": {},
   "outputs": [
    {
     "name": "stdout",
     "output_type": "stream",
     "text": [
      "AttributeDict({'blockHash': None, 'blockNumber': None, 'from': '0x5DaD165F2bC49e95a969C104C9c887E3dAceDD3d', 'gas': 70000, 'gasPrice': 10000000000, 'hash': HexBytes('0x295fcb740595fc433cd3559f94a85395a9fe18693f4a546a35e3a2ea8fcd227a'), 'input': '0xfcfff16f', 'nonce': 18, 'r': HexBytes('0x676b46d931bbbd084164a825715b666debd077840530ef85d235c22aadb1ab39'), 's': HexBytes('0x295912792a6bf65a3de1ee511fd647d7b5de3ffaf2f2e1f6cc57d3274448be24'), 'to': '0xfc2389E3D4073b2B912bCBfbA2451d03400F041E', 'transactionIndex': None, 'v': 42, 'value': 0})\n"
     ]
    },
    {
     "ename": "TransactionNotFound",
     "evalue": "Transaction with hash: b')_\\xcbt\\x05\\x95\\xfcC<\\xd3U\\x9f\\x94\\xa8S\\x95\\xa9\\xfe\\x18i?JTj5\\xe3\\xa2\\xea\\x8f\\xcd\"z' not found.",
     "output_type": "error",
     "traceback": [
      "\u001b[0;31m---------------------------------------------------------------------------\u001b[0m",
      "\u001b[0;31mTransactionNotFound\u001b[0m                       Traceback (most recent call last)",
      "\u001b[0;32m<ipython-input-36-7deb76d5ff08>\u001b[0m in \u001b[0;36m<module>\u001b[0;34m\u001b[0m\n\u001b[1;32m      1\u001b[0m \u001b[0;31m#Now, let's wait some time and check if our transaction did its duty\u001b[0m\u001b[0;34m\u001b[0m\u001b[0;34m\u001b[0m\u001b[0;34m\u001b[0m\u001b[0m\n\u001b[1;32m      2\u001b[0m \u001b[0mprint\u001b[0m \u001b[0;34m(\u001b[0m\u001b[0mw3\u001b[0m\u001b[0;34m.\u001b[0m\u001b[0meth\u001b[0m\u001b[0;34m.\u001b[0m\u001b[0mgetTransaction\u001b[0m\u001b[0;34m(\u001b[0m\u001b[0mtransaction_signature\u001b[0m\u001b[0;34m)\u001b[0m\u001b[0;34m)\u001b[0m\u001b[0;34m\u001b[0m\u001b[0;34m\u001b[0m\u001b[0m\n\u001b[0;32m----> 3\u001b[0;31m \u001b[0mprint\u001b[0m \u001b[0;34m(\u001b[0m\u001b[0mw3\u001b[0m\u001b[0;34m.\u001b[0m\u001b[0meth\u001b[0m\u001b[0;34m.\u001b[0m\u001b[0mgetTransactionReceipt\u001b[0m\u001b[0;34m(\u001b[0m\u001b[0mtransaction_signature\u001b[0m\u001b[0;34m)\u001b[0m\u001b[0;34m)\u001b[0m\u001b[0;34m\u001b[0m\u001b[0;34m\u001b[0m\u001b[0m\n\u001b[0m",
      "\u001b[0;32m/Library/Python/3.7/site-packages/web3/eth.py\u001b[0m in \u001b[0;36mgetTransactionReceipt\u001b[0;34m(self, transaction_hash)\u001b[0m\n\u001b[1;32m    341\u001b[0m         )\n\u001b[1;32m    342\u001b[0m         \u001b[0;32mif\u001b[0m \u001b[0mresult\u001b[0m \u001b[0;32mis\u001b[0m \u001b[0;32mNone\u001b[0m\u001b[0;34m:\u001b[0m\u001b[0;34m\u001b[0m\u001b[0;34m\u001b[0m\u001b[0m\n\u001b[0;32m--> 343\u001b[0;31m             \u001b[0;32mraise\u001b[0m \u001b[0mTransactionNotFound\u001b[0m\u001b[0;34m(\u001b[0m\u001b[0;34mf\"Transaction with hash: {transaction_hash} not found.\"\u001b[0m\u001b[0;34m)\u001b[0m\u001b[0;34m\u001b[0m\u001b[0;34m\u001b[0m\u001b[0m\n\u001b[0m\u001b[1;32m    344\u001b[0m         \u001b[0;32mreturn\u001b[0m \u001b[0mresult\u001b[0m\u001b[0;34m\u001b[0m\u001b[0;34m\u001b[0m\u001b[0m\n\u001b[1;32m    345\u001b[0m \u001b[0;34m\u001b[0m\u001b[0m\n",
      "\u001b[0;31mTransactionNotFound\u001b[0m: Transaction with hash: b')_\\xcbt\\x05\\x95\\xfcC<\\xd3U\\x9f\\x94\\xa8S\\x95\\xa9\\xfe\\x18i?JTj5\\xe3\\xa2\\xea\\x8f\\xcd\"z' not found."
     ]
    }
   ],
   "source": [
    "#Now, let's wait some time and check if our transaction did its duty\n",
    "print (w3.eth.getTransaction(transaction_signature))\n",
    "print (w3.eth.getTransactionReceipt(transaction_signature))"
   ]
  },
  {
   "cell_type": "markdown",
   "metadata": {},
   "source": [
    "## Bonus: open and close auction\n",
    "Contract opening and closing can be performed only by the contract owner. (I will not say its address). but, if you want to deploy your own contract, you can use the folowing instructions to open and/or close it."
   ]
  },
  {
   "cell_type": "code",
   "execution_count": 35,
   "metadata": {},
   "outputs": [],
   "source": [
    "#Open auction\n",
    "\n",
    "#Create the function instance\n",
    "contract_function = auction_contract.functions.open()\n",
    "\n",
    "#as usual, get the transaction nonce of our address by looking the number of transactions already performed.\n",
    "#We will send this transaction from an address we know and in which we know we have some ether in.\n",
    "#(try to use the keys we created in the prevous examples)\n",
    "nonce = w3.eth.getTransactionCount(my_address)\n",
    "\n",
    "#and then construct the transaction\n",
    "contract_txn = contract_function.buildTransaction({\n",
    "    'gas': 70000, #the gas attached to the transaction. this is the maximum gas which will be used to eprform it.\n",
    "    #If less gas than this will be used, it will be reimboursed. If there is not enough gas to perform\n",
    "    #the transaction, it will be refused AND THE GAS WILL NOT BE REIMBOURSED.\n",
    "    'gasPrice': w3.toWei('10', 'gwei'), #the price (in gwei) that we will be willing to pay epr each burned gas\n",
    "    'nonce': nonce, #The transaction nonce\n",
    "})\n",
    "\n",
    "#Now, let's digitally sign our transaction (remember, we will need our private key for doing so)\n",
    "signed_txn = w3.eth.account.sign_transaction(contract_txn, private_key=my_private)\n",
    "\n",
    "#and send the transaction to the contract\n",
    "transaction_signature = w3.eth.sendRawTransaction(signed_txn.rawTransaction)  "
   ]
  },
  {
   "cell_type": "code",
   "execution_count": null,
   "metadata": {},
   "outputs": [],
   "source": [
    "#Close auction\n",
    "\n",
    "#Create the function instance\n",
    "contract_function = auction_contract.functions.close()\n",
    "\n",
    "#as usual, get the transaction nonce of our address by looking the number of transactions already performed.\n",
    "#We will send this transaction from an address we know and in which we know we have some ether in.\n",
    "#(try to use the keys we created in the prevous examples)\n",
    "nonce = w3.eth.getTransactionCount(my_address)\n",
    "\n",
    "#and then construct the transaction\n",
    "contract_txn = contract_function.buildTransaction({\n",
    "    'gas': 70000, #the gas attached to the transaction. this is the maximum gas which will be used to eprform it.\n",
    "    #If less gas than this will be used, it will be reimboursed. If there is not enough gas to perform\n",
    "    #the transaction, it will be refused AND THE GAS WILL NOT BE REIMBOURSED.\n",
    "    'gasPrice': w3.toWei('1', 'gwei'), #the price (in gwei) that we will be willing to pay epr each burned gas\n",
    "    'nonce': nonce, #The transaction nonce\n",
    "})\n",
    "\n",
    "#Now, let's digitally sign our transaction (remember, we will need our private key for doing so)\n",
    "signed_txn = w3.eth.account.sign_transaction(contract_txn, private_key=my_private)\n",
    "\n",
    "#and send the transaction to the contract\n",
    "transaction_signature = w3.eth.sendRawTransaction(signed_txn.rawTransaction)  "
   ]
  }
 ],
 "metadata": {
  "kernelspec": {
   "display_name": "Python 3",
   "language": "python",
   "name": "python3"
  },
  "language_info": {
   "codemirror_mode": {
    "name": "ipython",
    "version": 3
   },
   "file_extension": ".py",
   "mimetype": "text/x-python",
   "name": "python",
   "nbconvert_exporter": "python",
   "pygments_lexer": "ipython3",
   "version": "3.7.3"
  }
 },
 "nbformat": 4,
 "nbformat_minor": 4
}
